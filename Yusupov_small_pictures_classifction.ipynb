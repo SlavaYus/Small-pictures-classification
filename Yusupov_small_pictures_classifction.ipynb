{
 "cells": [
  {
   "cell_type": "code",
   "execution_count": 46,
   "metadata": {
    "_cell_guid": "b1076dfc-b9ad-4769-8c92-a6c4dae69d19",
    "_uuid": "8f2839f25d086af736a60e9eeb907d3b93b6e0e5",
    "execution": {
     "iopub.execute_input": "2024-01-21T14:11:52.732291Z",
     "iopub.status.busy": "2024-01-21T14:11:52.731434Z",
     "iopub.status.idle": "2024-01-21T14:11:52.803370Z",
     "shell.execute_reply": "2024-01-21T14:11:52.802479Z",
     "shell.execute_reply.started": "2024-01-21T14:11:52.732254Z"
    }
   },
   "outputs": [
    {
     "data": {
      "text/html": [
       "<div>\n",
       "<style scoped>\n",
       "    .dataframe tbody tr th:only-of-type {\n",
       "        vertical-align: middle;\n",
       "    }\n",
       "\n",
       "    .dataframe tbody tr th {\n",
       "        vertical-align: top;\n",
       "    }\n",
       "\n",
       "    .dataframe thead th {\n",
       "        text-align: right;\n",
       "    }\n",
       "</style>\n",
       "<table border=\"1\" class=\"dataframe\">\n",
       "  <thead>\n",
       "    <tr style=\"text-align: right;\">\n",
       "      <th></th>\n",
       "      <th>Id</th>\n",
       "      <th>Category</th>\n",
       "    </tr>\n",
       "  </thead>\n",
       "  <tbody>\n",
       "    <tr>\n",
       "      <th>0</th>\n",
       "      <td>trainval_00000.jpg</td>\n",
       "      <td>7</td>\n",
       "    </tr>\n",
       "    <tr>\n",
       "      <th>1</th>\n",
       "      <td>trainval_00001.jpg</td>\n",
       "      <td>198</td>\n",
       "    </tr>\n",
       "    <tr>\n",
       "      <th>2</th>\n",
       "      <td>trainval_00002.jpg</td>\n",
       "      <td>161</td>\n",
       "    </tr>\n",
       "    <tr>\n",
       "      <th>3</th>\n",
       "      <td>trainval_00003.jpg</td>\n",
       "      <td>131</td>\n",
       "    </tr>\n",
       "    <tr>\n",
       "      <th>4</th>\n",
       "      <td>trainval_00004.jpg</td>\n",
       "      <td>107</td>\n",
       "    </tr>\n",
       "  </tbody>\n",
       "</table>\n",
       "</div>"
      ],
      "text/plain": [
       "                   Id  Category\n",
       "0  trainval_00000.jpg         7\n",
       "1  trainval_00001.jpg       198\n",
       "2  trainval_00002.jpg       161\n",
       "3  trainval_00003.jpg       131\n",
       "4  trainval_00004.jpg       107"
      ]
     },
     "execution_count": 46,
     "metadata": {},
     "output_type": "execute_result"
    }
   ],
   "source": [
    "import pandas as pd\n",
    "df = pd.read_csv('/kaggle/input/bhw1-data/bhw1/labels.csv')\n",
    "df.head()"
   ]
  },
  {
   "cell_type": "markdown",
   "metadata": {},
   "source": [
    "Number of categories:"
   ]
  },
  {
   "cell_type": "code",
   "execution_count": 47,
   "metadata": {
    "execution": {
     "iopub.execute_input": "2024-01-21T14:11:55.118868Z",
     "iopub.status.busy": "2024-01-21T14:11:55.118116Z",
     "iopub.status.idle": "2024-01-21T14:11:55.125728Z",
     "shell.execute_reply": "2024-01-21T14:11:55.124690Z",
     "shell.execute_reply.started": "2024-01-21T14:11:55.118832Z"
    }
   },
   "outputs": [
    {
     "data": {
      "text/plain": [
       "200"
      ]
     },
     "execution_count": 47,
     "metadata": {},
     "output_type": "execute_result"
    }
   ],
   "source": [
    "df['Category'].nunique()"
   ]
  },
  {
   "cell_type": "markdown",
   "metadata": {},
   "source": [
    "Dataset and Dataloader"
   ]
  },
  {
   "cell_type": "code",
   "execution_count": 48,
   "metadata": {
    "execution": {
     "iopub.execute_input": "2024-01-21T14:11:57.385821Z",
     "iopub.status.busy": "2024-01-21T14:11:57.385438Z",
     "iopub.status.idle": "2024-01-21T14:11:57.393990Z",
     "shell.execute_reply": "2024-01-21T14:11:57.393046Z",
     "shell.execute_reply.started": "2024-01-21T14:11:57.385790Z"
    }
   },
   "outputs": [],
   "source": [
    "import os\n",
    "from PIL import Image\n",
    "import torch\n",
    "from torch.utils.data import Dataset, DataLoader\n",
    "import torchvision.transforms as transforms\n",
    "\n",
    "class CustomImageDataset(Dataset):\n",
    "    def __init__(self, annotations_file, img_dir, transform=None, target_transform=None):\n",
    "        self.img_labels = annotations_file\n",
    "        self.img_dir = img_dir\n",
    "        self.transform = transform\n",
    "        self.target_transform = target_transform\n",
    "\n",
    "    def __len__(self):\n",
    "        return len(self.img_labels)\n",
    "\n",
    "    def __getitem__(self, idx):\n",
    "        #print(idx)\n",
    "        img_path = os.path.join(self.img_dir, self.img_labels.iloc[idx, 0])\n",
    "        image = Image.open(img_path).convert(\"RGB\")\n",
    "        label = int(self.img_labels.iloc[idx, 1])\n",
    "\n",
    "        if self.transform:\n",
    "            image = self.transform(image)\n",
    "\n",
    "        if self.target_transform:\n",
    "            label = self.target_transform(label)\n",
    "\n",
    "        return image, label"
   ]
  },
  {
   "cell_type": "code",
   "execution_count": 49,
   "metadata": {
    "execution": {
     "iopub.execute_input": "2024-01-21T14:12:00.100128Z",
     "iopub.status.busy": "2024-01-21T14:12:00.099285Z",
     "iopub.status.idle": "2024-01-21T14:12:00.106397Z",
     "shell.execute_reply": "2024-01-21T14:12:00.105445Z",
     "shell.execute_reply.started": "2024-01-21T14:12:00.100092Z"
    }
   },
   "outputs": [],
   "source": [
    "class TestImageDataset(Dataset):\n",
    "    def __init__(self, img_dir, transform=None):\n",
    "        \n",
    "        self.img_dir = img_dir\n",
    "        \n",
    "        self.img_names = os.listdir(img_dir)\n",
    "        \n",
    "        \n",
    "        self.transform = transform\n",
    "\n",
    "    def __len__(self):\n",
    "        return len(self.img_names)\n",
    "\n",
    "    \n",
    "    \n",
    "    def __getitem__(self, idx):\n",
    "        img_path = os.path.join(self.img_dir, self.img_names[idx])\n",
    "        image = Image.open(img_path).convert(\"RGB\")\n",
    "        if self.transform:\n",
    "            image = self.transform(image)\n",
    "\n",
    "        return image, self.img_names[idx]"
   ]
  },
  {
   "cell_type": "code",
   "execution_count": 50,
   "metadata": {
    "execution": {
     "iopub.execute_input": "2024-01-21T14:12:02.550996Z",
     "iopub.status.busy": "2024-01-21T14:12:02.550276Z",
     "iopub.status.idle": "2024-01-21T14:12:02.558425Z",
     "shell.execute_reply": "2024-01-21T14:12:02.557521Z",
     "shell.execute_reply.started": "2024-01-21T14:12:02.550959Z"
    }
   },
   "outputs": [],
   "source": [
    "def classify(model, test_dataset_path):\n",
    "    device = torch.device(\"cuda\" if torch.cuda.is_available() else \"cpu\")\n",
    "    test_dataset = TestImageDataset(test_dataset_path, transform=transforms.Compose([transforms.Resize([40, 40]), transforms.ToTensor(), \n",
    "                                                                                     transforms.Normalize(mean=[0.485, 0.456, 0.406],\n",
    "                                                                                                        std=[0.229, 0.224, 0.225])]))\n",
    "    dataloader = DataLoader(test_dataset, batch_size=32, shuffle=False)      \n",
    "    predictions = []\n",
    "    file_names = []\n",
    "\n",
    "    \n",
    "    for inputs, file_name in tqdm(dataloader):\n",
    "        inputs = inputs.to(device)\n",
    "        outputs = model(inputs)\n",
    "        _, predicted = torch.max(outputs, 1)\n",
    "        predictions.extend(predicted.tolist())\n",
    "        file_names.extend(file_name)\n",
    "\n",
    "    predictions_with_filenames = dict(zip(file_names, predictions))\n",
    "    \n",
    "\n",
    "    return predictions_with_filenames, predictions"
   ]
  },
  {
   "cell_type": "code",
   "execution_count": 51,
   "metadata": {
    "execution": {
     "iopub.execute_input": "2024-01-21T14:12:05.749559Z",
     "iopub.status.busy": "2024-01-21T14:12:05.748807Z",
     "iopub.status.idle": "2024-01-21T14:12:05.754405Z",
     "shell.execute_reply": "2024-01-21T14:12:05.753480Z",
     "shell.execute_reply.started": "2024-01-21T14:12:05.749520Z"
    }
   },
   "outputs": [],
   "source": [
    "dataset = CustomImageDataset(df,\"bhw1/trainval/\" , transform=transforms.Compose([transforms.Resize(40), transforms.ToTensor()]))\n",
    "dataloader = DataLoader(dataset, batch_size=256, shuffle=True)"
   ]
  },
  {
   "cell_type": "markdown",
   "metadata": {},
   "source": [
    "Model:"
   ]
  },
  {
   "cell_type": "code",
   "execution_count": 52,
   "metadata": {
    "execution": {
     "iopub.execute_input": "2024-01-21T14:12:07.644704Z",
     "iopub.status.busy": "2024-01-21T14:12:07.643882Z",
     "iopub.status.idle": "2024-01-21T14:12:07.650481Z",
     "shell.execute_reply": "2024-01-21T14:12:07.649565Z",
     "shell.execute_reply.started": "2024-01-21T14:12:07.644672Z"
    }
   },
   "outputs": [],
   "source": [
    "import os\n",
    "from PIL import Image\n",
    "from tqdm.notebook import tqdm\n",
    "import torch\n",
    "import torchvision.transforms as T\n",
    "from torch.utils.data import Dataset, DataLoader\n",
    "import pandas as pd\n",
    "import torch.optim.lr_scheduler as lr_scheduler\n",
    "\n",
    "import torch\n",
    "import torchvision.models as models\n",
    "import torch.nn as nn\n",
    "import torch.optim as optim\n",
    "import torchvision.transforms as transforms\n",
    "import torchvision.datasets as datasets\n",
    "from torch.utils.data import DataLoader"
   ]
  },
  {
   "cell_type": "code",
   "execution_count": 55,
   "metadata": {
    "execution": {
     "iopub.execute_input": "2024-01-21T14:12:14.383944Z",
     "iopub.status.busy": "2024-01-21T14:12:14.383556Z",
     "iopub.status.idle": "2024-01-21T14:12:14.394772Z",
     "shell.execute_reply": "2024-01-21T14:12:14.393932Z",
     "shell.execute_reply.started": "2024-01-21T14:12:14.383916Z"
    }
   },
   "outputs": [],
   "source": [
    "class MyModel(nn.Module):\n",
    "    def __init__(self, num_classes):\n",
    "        super(MyModel, self).__init__()\n",
    "        self.conv1 = nn.Conv2d(3, 64, kernel_size=3, padding=1, bias=True)\n",
    "        self.bn1 = nn.BatchNorm2d(64)\n",
    "        self.relu = nn.ReLU(inplace=True)\n",
    "        self.conv2 = nn.Conv2d(64, 64, kernel_size=3, padding=1, bias=True)\n",
    "        self.maxpool = nn.MaxPool2d(kernel_size=3, stride=2, padding=1)\n",
    "\n",
    "        original_resnet = models.resnet18(num_classes=200)\n",
    "        \n",
    "        self.features = nn.Sequential(*list(original_resnet.children())[4:-1])\n",
    "        self.bn2 = nn.BatchNorm1d(512)\n",
    "        self.fc1 = nn.Linear(512, 512)\n",
    "        self.fc2 = nn.Linear(512, 200)\n",
    "\n",
    "        for param in self.parameters():\n",
    "            param.requires_grad = True\n",
    "\n",
    "\n",
    "    def forward(self, x):\n",
    "        x = self.conv1(x)\n",
    "        x = self.bn1(x)\n",
    "        x = self.relu(x)\n",
    "        x = self.conv2(x)\n",
    "\n",
    "        x = self.relu(x)\n",
    "        x = self.features(x)\n",
    "        x = self.fc1(x)\n",
    "        x = self.bn2(x)\n",
    "        x = torch.relu(x)\n",
    "        x = self.fc2(x)\n",
    "\n",
    "\n",
    "        return x"
   ]
  },
  {
   "cell_type": "markdown",
   "metadata": {},
   "source": [
    "Training:"
   ]
  },
  {
   "cell_type": "code",
   "execution_count": 73,
   "metadata": {
    "execution": {
     "iopub.execute_input": "2024-01-21T15:36:29.743778Z",
     "iopub.status.busy": "2024-01-21T15:36:29.742947Z",
     "iopub.status.idle": "2024-01-21T15:36:29.755057Z",
     "shell.execute_reply": "2024-01-21T15:36:29.754162Z",
     "shell.execute_reply.started": "2024-01-21T15:36:29.743742Z"
    }
   },
   "outputs": [],
   "source": [
    "from torch.utils.data import random_split\n",
    "def train_classifier(df, train_img_dir, fast_train=False):\n",
    "\n",
    "    device = torch.device(\"cuda\" if torch.cuda.is_available() else \"cpu\")\n",
    "\n",
    "    dataset = CustomImageDataset(df,train_img_dir , transform=transforms.Compose([transforms.RandomResizedCrop(40, scale = (0.8, 1.1)),\n",
    "                                                                                  transforms.RandomHorizontalFlip(),\n",
    "                                                                                  transforms.RandomAdjustSharpness(2, p=0.5),\n",
    "                                                                                  transforms.RandomRotation((-10, 10)),\n",
    "                                                                                  transforms.ColorJitter(brightness=0.4, contrast=0.4, saturation=0.4, hue=0.1),\n",
    "                                                                                  #transforms.RandomErasing(p=0.1, scale=(0.02, 0.10), ratio=(0.3, 3.3), value='random'),\n",
    "                                                                                  \n",
    "                                                                                  #transforms.Resize([40, 40]),\n",
    "                                                                                  transforms.ToTensor(),\n",
    "                                                                                  transforms.Normalize(mean=[0.485, 0.456, 0.406],\n",
    "                                                                                                       std=[0.229, 0.224, 0.225])]))\n",
    "    #train_size = int(0.98 * len(dataset))\n",
    "    #test_size = len(dataset) - train_size\n",
    "    #dataset, val_dataset = random_split(dataset, [train_size, test_size])\n",
    "    dataloader = DataLoader(dataset, batch_size=256, shuffle=True)\n",
    "    #val_dataloader = DataLoader(val_dataset, batch_size=256, shuffle=True)\n",
    "    \n",
    "    model = MyModel(num_classes = 200).to(device)\n",
    "    #model = FourthModel().to(device)\n",
    "    criterion = nn.CrossEntropyLoss()\n",
    "    optimizer = optim.Adam(model.parameters(), lr=0.001)\n",
    "    #milestones = [5]\n",
    "    #gamma = 0.1\n",
    "    #scheduler = lr_scheduler.MultiStepLR(optimizer, milestones, gamma)\n",
    "    for epoch in range(30):\n",
    "        print(epoch)\n",
    "        s = 0\n",
    "        tot = 0\n",
    "        #model.train()\n",
    "        for inputs, labels in tqdm(dataloader):\n",
    "            #print(inputs.shape)\n",
    "            inputs, labels = inputs.to(device), labels.to(device)\n",
    "            outputs = model(inputs).to(device)\n",
    "\n",
    "            loss = criterion(outputs, labels)\n",
    "\n",
    "            optimizer.zero_grad()\n",
    "\n",
    "            loss.backward()\n",
    "\n",
    "\n",
    "            optimizer.step()\n",
    "        #model.eval()\n",
    "#         for inputs, labels in tqdm(val_dataloader):\n",
    "#             inputs, labels = inputs.to(device), labels.to(device)\n",
    "#             outputs = model(inputs).to(device)\n",
    "#             _, predicted = torch.max(outputs, 1)\n",
    "#             correct = (predicted == labels).sum().item()\n",
    "#             s += correct\n",
    "#             tot += labels.size(0)\n",
    "#         print(\"Accuracy: \", s / tot)\n",
    "        \n",
    "        print(f'Epoch [{epoch+1}/{30}], Loss: {loss.item()}')\n",
    "    return model"
   ]
  },
  {
   "cell_type": "code",
   "execution_count": 74,
   "metadata": {
    "execution": {
     "iopub.execute_input": "2024-01-21T15:36:32.626884Z",
     "iopub.status.busy": "2024-01-21T15:36:32.626496Z",
     "iopub.status.idle": "2024-01-21T18:48:32.159399Z",
     "shell.execute_reply": "2024-01-21T18:48:32.158451Z",
     "shell.execute_reply.started": "2024-01-21T15:36:32.626852Z"
    }
   },
   "outputs": [
    {
     "name": "stdout",
     "output_type": "stream",
     "text": [
      "0\n"
     ]
    },
    {
     "data": {
      "application/vnd.jupyter.widget-view+json": {
       "model_id": "b7336476c2c942528277e4a7a311967d",
       "version_major": 2,
       "version_minor": 0
      },
      "text/plain": [
       "  0%|          | 0/391 [00:00<?, ?it/s]"
      ]
     },
     "metadata": {},
     "output_type": "display_data"
    },
    {
     "name": "stdout",
     "output_type": "stream",
     "text": [
      "Epoch [1/30], Loss: 4.479461669921875\n",
      "1\n"
     ]
    },
    {
     "data": {
      "application/vnd.jupyter.widget-view+json": {
       "model_id": "3c658138cea84b3683a68d100b1c0123",
       "version_major": 2,
       "version_minor": 0
      },
      "text/plain": [
       "  0%|          | 0/391 [00:00<?, ?it/s]"
      ]
     },
     "metadata": {},
     "output_type": "display_data"
    },
    {
     "name": "stdout",
     "output_type": "stream",
     "text": [
      "Epoch [2/30], Loss: 3.867403745651245\n",
      "2\n"
     ]
    },
    {
     "data": {
      "application/vnd.jupyter.widget-view+json": {
       "model_id": "a9a87025fbd14eaab751016cd55ccb8d",
       "version_major": 2,
       "version_minor": 0
      },
      "text/plain": [
       "  0%|          | 0/391 [00:00<?, ?it/s]"
      ]
     },
     "metadata": {},
     "output_type": "display_data"
    },
    {
     "name": "stdout",
     "output_type": "stream",
     "text": [
      "Epoch [3/30], Loss: 3.736199140548706\n",
      "3\n"
     ]
    },
    {
     "data": {
      "application/vnd.jupyter.widget-view+json": {
       "model_id": "7aad2f9b07da40fcb417326efbc987fc",
       "version_major": 2,
       "version_minor": 0
      },
      "text/plain": [
       "  0%|          | 0/391 [00:00<?, ?it/s]"
      ]
     },
     "metadata": {},
     "output_type": "display_data"
    },
    {
     "name": "stdout",
     "output_type": "stream",
     "text": [
      "Epoch [4/30], Loss: 3.3399085998535156\n",
      "4\n"
     ]
    },
    {
     "data": {
      "application/vnd.jupyter.widget-view+json": {
       "model_id": "06e47cce24dd40bdbb5309f29e3e4465",
       "version_major": 2,
       "version_minor": 0
      },
      "text/plain": [
       "  0%|          | 0/391 [00:00<?, ?it/s]"
      ]
     },
     "metadata": {},
     "output_type": "display_data"
    },
    {
     "name": "stdout",
     "output_type": "stream",
     "text": [
      "Epoch [5/30], Loss: 3.3021347522735596\n",
      "5\n"
     ]
    },
    {
     "data": {
      "application/vnd.jupyter.widget-view+json": {
       "model_id": "7482c490d42545d2a3c9efda76f37f9c",
       "version_major": 2,
       "version_minor": 0
      },
      "text/plain": [
       "  0%|          | 0/391 [00:00<?, ?it/s]"
      ]
     },
     "metadata": {},
     "output_type": "display_data"
    },
    {
     "name": "stdout",
     "output_type": "stream",
     "text": [
      "Epoch [6/30], Loss: 2.9848248958587646\n",
      "6\n"
     ]
    },
    {
     "data": {
      "application/vnd.jupyter.widget-view+json": {
       "model_id": "9633e13fa3514f64925914ab504a1b4f",
       "version_major": 2,
       "version_minor": 0
      },
      "text/plain": [
       "  0%|          | 0/391 [00:00<?, ?it/s]"
      ]
     },
     "metadata": {},
     "output_type": "display_data"
    },
    {
     "name": "stdout",
     "output_type": "stream",
     "text": [
      "Epoch [7/30], Loss: 2.7856860160827637\n",
      "7\n"
     ]
    },
    {
     "data": {
      "application/vnd.jupyter.widget-view+json": {
       "model_id": "0cb27bd9c89244769a66b5ba6cb92648",
       "version_major": 2,
       "version_minor": 0
      },
      "text/plain": [
       "  0%|          | 0/391 [00:00<?, ?it/s]"
      ]
     },
     "metadata": {},
     "output_type": "display_data"
    },
    {
     "name": "stdout",
     "output_type": "stream",
     "text": [
      "Epoch [8/30], Loss: 2.6646549701690674\n",
      "8\n"
     ]
    },
    {
     "data": {
      "application/vnd.jupyter.widget-view+json": {
       "model_id": "f95327c766f54c5f8f4772a652c19e24",
       "version_major": 2,
       "version_minor": 0
      },
      "text/plain": [
       "  0%|          | 0/391 [00:00<?, ?it/s]"
      ]
     },
     "metadata": {},
     "output_type": "display_data"
    },
    {
     "name": "stdout",
     "output_type": "stream",
     "text": [
      "Epoch [9/30], Loss: 2.778200149536133\n",
      "9\n"
     ]
    },
    {
     "data": {
      "application/vnd.jupyter.widget-view+json": {
       "model_id": "069457440bbb4367865a65f1c3b074a0",
       "version_major": 2,
       "version_minor": 0
      },
      "text/plain": [
       "  0%|          | 0/391 [00:00<?, ?it/s]"
      ]
     },
     "metadata": {},
     "output_type": "display_data"
    },
    {
     "name": "stdout",
     "output_type": "stream",
     "text": [
      "Epoch [10/30], Loss: 2.623138189315796\n",
      "10\n"
     ]
    },
    {
     "data": {
      "application/vnd.jupyter.widget-view+json": {
       "model_id": "b7f8e9e157a24bf8b97023032ccc6e33",
       "version_major": 2,
       "version_minor": 0
      },
      "text/plain": [
       "  0%|          | 0/391 [00:00<?, ?it/s]"
      ]
     },
     "metadata": {},
     "output_type": "display_data"
    },
    {
     "name": "stdout",
     "output_type": "stream",
     "text": [
      "Epoch [11/30], Loss: 2.7380013465881348\n",
      "11\n"
     ]
    },
    {
     "data": {
      "application/vnd.jupyter.widget-view+json": {
       "model_id": "2399071785a64c1681930497e0a1ade4",
       "version_major": 2,
       "version_minor": 0
      },
      "text/plain": [
       "  0%|          | 0/391 [00:00<?, ?it/s]"
      ]
     },
     "metadata": {},
     "output_type": "display_data"
    },
    {
     "name": "stdout",
     "output_type": "stream",
     "text": [
      "Epoch [12/30], Loss: 2.690822124481201\n",
      "12\n"
     ]
    },
    {
     "data": {
      "application/vnd.jupyter.widget-view+json": {
       "model_id": "834f5ef6d878497cb0341981994ba4de",
       "version_major": 2,
       "version_minor": 0
      },
      "text/plain": [
       "  0%|          | 0/391 [00:00<?, ?it/s]"
      ]
     },
     "metadata": {},
     "output_type": "display_data"
    },
    {
     "name": "stdout",
     "output_type": "stream",
     "text": [
      "Epoch [13/30], Loss: 2.1617183685302734\n",
      "13\n"
     ]
    },
    {
     "data": {
      "application/vnd.jupyter.widget-view+json": {
       "model_id": "a51c46b287114d14bfd7c7a55105fb39",
       "version_major": 2,
       "version_minor": 0
      },
      "text/plain": [
       "  0%|          | 0/391 [00:00<?, ?it/s]"
      ]
     },
     "metadata": {},
     "output_type": "display_data"
    },
    {
     "name": "stdout",
     "output_type": "stream",
     "text": [
      "Epoch [14/30], Loss: 2.2918920516967773\n",
      "14\n"
     ]
    },
    {
     "data": {
      "application/vnd.jupyter.widget-view+json": {
       "model_id": "c9179d443bea42218be99faa9977c044",
       "version_major": 2,
       "version_minor": 0
      },
      "text/plain": [
       "  0%|          | 0/391 [00:00<?, ?it/s]"
      ]
     },
     "metadata": {},
     "output_type": "display_data"
    },
    {
     "name": "stdout",
     "output_type": "stream",
     "text": [
      "Epoch [15/30], Loss: 1.893808126449585\n",
      "15\n"
     ]
    },
    {
     "data": {
      "application/vnd.jupyter.widget-view+json": {
       "model_id": "14242a293d90467bb02adc9ec8b1640f",
       "version_major": 2,
       "version_minor": 0
      },
      "text/plain": [
       "  0%|          | 0/391 [00:00<?, ?it/s]"
      ]
     },
     "metadata": {},
     "output_type": "display_data"
    },
    {
     "name": "stdout",
     "output_type": "stream",
     "text": [
      "Epoch [16/30], Loss: 2.1726508140563965\n",
      "16\n"
     ]
    },
    {
     "data": {
      "application/vnd.jupyter.widget-view+json": {
       "model_id": "ac9322ba9c6546a5b79cb7c7489b6c8d",
       "version_major": 2,
       "version_minor": 0
      },
      "text/plain": [
       "  0%|          | 0/391 [00:00<?, ?it/s]"
      ]
     },
     "metadata": {},
     "output_type": "display_data"
    },
    {
     "name": "stdout",
     "output_type": "stream",
     "text": [
      "Epoch [17/30], Loss: 2.1810550689697266\n",
      "17\n"
     ]
    },
    {
     "data": {
      "application/vnd.jupyter.widget-view+json": {
       "model_id": "03bc0daa78a2456db7c80e1910a7bf3c",
       "version_major": 2,
       "version_minor": 0
      },
      "text/plain": [
       "  0%|          | 0/391 [00:00<?, ?it/s]"
      ]
     },
     "metadata": {},
     "output_type": "display_data"
    },
    {
     "name": "stdout",
     "output_type": "stream",
     "text": [
      "Epoch [18/30], Loss: 1.7814499139785767\n",
      "18\n"
     ]
    },
    {
     "data": {
      "application/vnd.jupyter.widget-view+json": {
       "model_id": "4aa301534d5c4d3fa1e282b8367353c1",
       "version_major": 2,
       "version_minor": 0
      },
      "text/plain": [
       "  0%|          | 0/391 [00:00<?, ?it/s]"
      ]
     },
     "metadata": {},
     "output_type": "display_data"
    },
    {
     "name": "stdout",
     "output_type": "stream",
     "text": [
      "Epoch [19/30], Loss: 1.7551453113555908\n",
      "19\n"
     ]
    },
    {
     "data": {
      "application/vnd.jupyter.widget-view+json": {
       "model_id": "a096391096ef4c8ebc08155febb24f51",
       "version_major": 2,
       "version_minor": 0
      },
      "text/plain": [
       "  0%|          | 0/391 [00:00<?, ?it/s]"
      ]
     },
     "metadata": {},
     "output_type": "display_data"
    },
    {
     "name": "stdout",
     "output_type": "stream",
     "text": [
      "Epoch [20/30], Loss: 1.8901342153549194\n",
      "20\n"
     ]
    },
    {
     "data": {
      "application/vnd.jupyter.widget-view+json": {
       "model_id": "d63d6ff159ff48219459f4c00a31d997",
       "version_major": 2,
       "version_minor": 0
      },
      "text/plain": [
       "  0%|          | 0/391 [00:00<?, ?it/s]"
      ]
     },
     "metadata": {},
     "output_type": "display_data"
    },
    {
     "name": "stdout",
     "output_type": "stream",
     "text": [
      "Epoch [21/30], Loss: 1.4061992168426514\n",
      "21\n"
     ]
    },
    {
     "data": {
      "application/vnd.jupyter.widget-view+json": {
       "model_id": "e203630c9d1a4531a0f7f6146760ea62",
       "version_major": 2,
       "version_minor": 0
      },
      "text/plain": [
       "  0%|          | 0/391 [00:00<?, ?it/s]"
      ]
     },
     "metadata": {},
     "output_type": "display_data"
    },
    {
     "name": "stdout",
     "output_type": "stream",
     "text": [
      "Epoch [22/30], Loss: 1.5268588066101074\n",
      "22\n"
     ]
    },
    {
     "data": {
      "application/vnd.jupyter.widget-view+json": {
       "model_id": "4bf2db4afec24576aec46bea80934018",
       "version_major": 2,
       "version_minor": 0
      },
      "text/plain": [
       "  0%|          | 0/391 [00:00<?, ?it/s]"
      ]
     },
     "metadata": {},
     "output_type": "display_data"
    },
    {
     "name": "stdout",
     "output_type": "stream",
     "text": [
      "Epoch [23/30], Loss: 1.5810215473175049\n",
      "23\n"
     ]
    },
    {
     "data": {
      "application/vnd.jupyter.widget-view+json": {
       "model_id": "3e33e433e7104b05b3d87529c943aa0d",
       "version_major": 2,
       "version_minor": 0
      },
      "text/plain": [
       "  0%|          | 0/391 [00:00<?, ?it/s]"
      ]
     },
     "metadata": {},
     "output_type": "display_data"
    },
    {
     "name": "stdout",
     "output_type": "stream",
     "text": [
      "Epoch [24/30], Loss: 1.286651372909546\n",
      "24\n"
     ]
    },
    {
     "data": {
      "application/vnd.jupyter.widget-view+json": {
       "model_id": "6f135266dcf144219e6ff2b8a2ccd88a",
       "version_major": 2,
       "version_minor": 0
      },
      "text/plain": [
       "  0%|          | 0/391 [00:00<?, ?it/s]"
      ]
     },
     "metadata": {},
     "output_type": "display_data"
    },
    {
     "name": "stdout",
     "output_type": "stream",
     "text": [
      "Epoch [25/30], Loss: 1.1471303701400757\n",
      "25\n"
     ]
    },
    {
     "data": {
      "application/vnd.jupyter.widget-view+json": {
       "model_id": "532210ff0a51441eadab5bf760c9ffa7",
       "version_major": 2,
       "version_minor": 0
      },
      "text/plain": [
       "  0%|          | 0/391 [00:00<?, ?it/s]"
      ]
     },
     "metadata": {},
     "output_type": "display_data"
    },
    {
     "name": "stdout",
     "output_type": "stream",
     "text": [
      "Epoch [26/30], Loss: 1.049856185913086\n",
      "26\n"
     ]
    },
    {
     "data": {
      "application/vnd.jupyter.widget-view+json": {
       "model_id": "9cb7c0696e6c4b4e9a4691b747189faa",
       "version_major": 2,
       "version_minor": 0
      },
      "text/plain": [
       "  0%|          | 0/391 [00:00<?, ?it/s]"
      ]
     },
     "metadata": {},
     "output_type": "display_data"
    },
    {
     "name": "stdout",
     "output_type": "stream",
     "text": [
      "Epoch [27/30], Loss: 1.2593114376068115\n",
      "27\n"
     ]
    },
    {
     "data": {
      "application/vnd.jupyter.widget-view+json": {
       "model_id": "4c2b72268a2a4c0b9f60a031d7e95475",
       "version_major": 2,
       "version_minor": 0
      },
      "text/plain": [
       "  0%|          | 0/391 [00:00<?, ?it/s]"
      ]
     },
     "metadata": {},
     "output_type": "display_data"
    },
    {
     "name": "stdout",
     "output_type": "stream",
     "text": [
      "Epoch [28/30], Loss: 1.2987210750579834\n",
      "28\n"
     ]
    },
    {
     "data": {
      "application/vnd.jupyter.widget-view+json": {
       "model_id": "8260440d404f426e9444c1be72732938",
       "version_major": 2,
       "version_minor": 0
      },
      "text/plain": [
       "  0%|          | 0/391 [00:00<?, ?it/s]"
      ]
     },
     "metadata": {},
     "output_type": "display_data"
    },
    {
     "name": "stdout",
     "output_type": "stream",
     "text": [
      "Epoch [29/30], Loss: 0.9033647775650024\n",
      "29\n"
     ]
    },
    {
     "data": {
      "application/vnd.jupyter.widget-view+json": {
       "model_id": "77e11cb4511d431b9042e79fa19a02f4",
       "version_major": 2,
       "version_minor": 0
      },
      "text/plain": [
       "  0%|          | 0/391 [00:00<?, ?it/s]"
      ]
     },
     "metadata": {},
     "output_type": "display_data"
    },
    {
     "name": "stdout",
     "output_type": "stream",
     "text": [
      "Epoch [30/30], Loss: 1.0330408811569214\n"
     ]
    }
   ],
   "source": [
    "model = train_classifier(df, \"/kaggle/input/bhw1-data/bhw1/trainval/\")"
   ]
  },
  {
   "cell_type": "markdown",
   "metadata": {},
   "source": [
    "Testing:"
   ]
  },
  {
   "cell_type": "code",
   "execution_count": 75,
   "metadata": {
    "execution": {
     "iopub.execute_input": "2024-01-21T18:49:32.321434Z",
     "iopub.status.busy": "2024-01-21T18:49:32.321085Z",
     "iopub.status.idle": "2024-01-21T18:49:32.328526Z",
     "shell.execute_reply": "2024-01-21T18:49:32.327661Z",
     "shell.execute_reply.started": "2024-01-21T18:49:32.321406Z"
    }
   },
   "outputs": [],
   "source": [
    "class TestImageDataset(Dataset):\n",
    "    def __init__(self, img_dir, transform=None):\n",
    "        \n",
    "        self.img_dir = img_dir\n",
    "        \n",
    "        self.img_names = os.listdir(img_dir)\n",
    "        \n",
    "        \n",
    "        self.transform = transform\n",
    "\n",
    "    def __len__(self):\n",
    "        return len(self.img_names)\n",
    "\n",
    "    \n",
    "    \n",
    "    def __getitem__(self, idx):\n",
    "        img_path = os.path.join(self.img_dir, self.img_names[idx])\n",
    "        image = Image.open(img_path).convert(\"RGB\")\n",
    "        if self.transform:\n",
    "            image = self.transform(image)\n",
    "\n",
    "        return image, self.img_names[idx]"
   ]
  },
  {
   "cell_type": "code",
   "execution_count": 76,
   "metadata": {
    "execution": {
     "iopub.execute_input": "2024-01-21T18:49:35.616979Z",
     "iopub.status.busy": "2024-01-21T18:49:35.616193Z",
     "iopub.status.idle": "2024-01-21T18:49:35.627480Z",
     "shell.execute_reply": "2024-01-21T18:49:35.626412Z",
     "shell.execute_reply.started": "2024-01-21T18:49:35.616940Z"
    }
   },
   "outputs": [],
   "source": [
    "def classify(model, test_dataset_path):\n",
    "    device = torch.device(\"cuda\" if torch.cuda.is_available() else \"cpu\")\n",
    "    test_dataset = TestImageDataset(test_dataset_path, transform=transforms.Compose([transforms.Resize([40, 40]), transforms.ToTensor(), \n",
    "                                                                                     transforms.Normalize(mean=[0.485, 0.456, 0.406],\n",
    "                                                                                                        std=[0.229, 0.224, 0.225])]))\n",
    "    dataloader = DataLoader(test_dataset, batch_size=32, shuffle=False)      \n",
    "    predictions = []\n",
    "    file_names = []\n",
    "\n",
    "    \n",
    "    for inputs, file_name in tqdm(dataloader):\n",
    "        inputs = inputs.to(device)\n",
    "        outputs = model(inputs)\n",
    "        _, predicted = torch.max(outputs, 1)\n",
    "        predictions.extend(predicted.tolist())\n",
    "        file_names.extend(file_name)\n",
    "\n",
    "    predictions_with_filenames = dict(zip(file_names, predictions))\n",
    "    \n",
    "\n",
    "    return predictions_with_filenames, predictions"
   ]
  },
  {
   "cell_type": "code",
   "execution_count": 77,
   "metadata": {
    "execution": {
     "iopub.execute_input": "2024-01-21T18:49:38.602035Z",
     "iopub.status.busy": "2024-01-21T18:49:38.601211Z",
     "iopub.status.idle": "2024-01-21T18:50:15.390138Z",
     "shell.execute_reply": "2024-01-21T18:50:15.389264Z",
     "shell.execute_reply.started": "2024-01-21T18:49:38.602000Z"
    }
   },
   "outputs": [
    {
     "data": {
      "application/vnd.jupyter.widget-view+json": {
       "model_id": "6ddbb4e0993543a69eb2c282fcfc7a28",
       "version_major": 2,
       "version_minor": 0
      },
      "text/plain": [
       "  0%|          | 0/313 [00:00<?, ?it/s]"
      ]
     },
     "metadata": {},
     "output_type": "display_data"
    }
   ],
   "source": [
    "predicts, preds = classify(model, '/kaggle/input/bhw1-data/bhw1/test/')\n"
   ]
  },
  {
   "cell_type": "code",
   "execution_count": 78,
   "metadata": {
    "execution": {
     "iopub.execute_input": "2024-01-21T18:50:30.358476Z",
     "iopub.status.busy": "2024-01-21T18:50:30.358120Z",
     "iopub.status.idle": "2024-01-21T18:50:30.377330Z",
     "shell.execute_reply": "2024-01-21T18:50:30.376421Z",
     "shell.execute_reply.started": "2024-01-21T18:50:30.358449Z"
    }
   },
   "outputs": [
    {
     "data": {
      "text/html": [
       "<div>\n",
       "<style scoped>\n",
       "    .dataframe tbody tr th:only-of-type {\n",
       "        vertical-align: middle;\n",
       "    }\n",
       "\n",
       "    .dataframe tbody tr th {\n",
       "        vertical-align: top;\n",
       "    }\n",
       "\n",
       "    .dataframe thead th {\n",
       "        text-align: right;\n",
       "    }\n",
       "</style>\n",
       "<table border=\"1\" class=\"dataframe\">\n",
       "  <thead>\n",
       "    <tr style=\"text-align: right;\">\n",
       "      <th></th>\n",
       "      <th>Id</th>\n",
       "      <th>Category</th>\n",
       "    </tr>\n",
       "  </thead>\n",
       "  <tbody>\n",
       "    <tr>\n",
       "      <th>0</th>\n",
       "      <td>test_00000.jpg</td>\n",
       "      <td>153</td>\n",
       "    </tr>\n",
       "    <tr>\n",
       "      <th>1</th>\n",
       "      <td>test_00001.jpg</td>\n",
       "      <td>70</td>\n",
       "    </tr>\n",
       "    <tr>\n",
       "      <th>2</th>\n",
       "      <td>test_00002.jpg</td>\n",
       "      <td>194</td>\n",
       "    </tr>\n",
       "    <tr>\n",
       "      <th>3</th>\n",
       "      <td>test_00003.jpg</td>\n",
       "      <td>171</td>\n",
       "    </tr>\n",
       "    <tr>\n",
       "      <th>4</th>\n",
       "      <td>test_00004.jpg</td>\n",
       "      <td>38</td>\n",
       "    </tr>\n",
       "  </tbody>\n",
       "</table>\n",
       "</div>"
      ],
      "text/plain": [
       "               Id  Category\n",
       "0  test_00000.jpg       153\n",
       "1  test_00001.jpg        70\n",
       "2  test_00002.jpg       194\n",
       "3  test_00003.jpg       171\n",
       "4  test_00004.jpg        38"
      ]
     },
     "execution_count": 78,
     "metadata": {},
     "output_type": "execute_result"
    }
   ],
   "source": [
    "df_test = pd.read_csv('/kaggle/input/bhw1-data/bhw1/sample_submission.csv')\n",
    "df_test.head()"
   ]
  },
  {
   "cell_type": "code",
   "execution_count": 80,
   "metadata": {
    "execution": {
     "iopub.execute_input": "2024-01-21T18:50:36.762626Z",
     "iopub.status.busy": "2024-01-21T18:50:36.762264Z",
     "iopub.status.idle": "2024-01-21T18:50:36.784597Z",
     "shell.execute_reply": "2024-01-21T18:50:36.783686Z",
     "shell.execute_reply.started": "2024-01-21T18:50:36.762585Z"
    }
   },
   "outputs": [
    {
     "name": "stdout",
     "output_type": "stream",
     "text": [
      "CSV файл /kaggle/working/submission.csv успешно создан.\n"
     ]
    }
   ],
   "source": [
    "import csv\n",
    "predicts = predicts\n",
    "csv_filename = '/kaggle/working/submission.csv'\n",
    "\n",
    "# Записываем словарь в CSV файл\n",
    "with open(csv_filename, 'w', newline='') as csv_file:\n",
    "    writer = csv.writer(csv_file)\n",
    "    # Записываем заголовок\n",
    "    writer.writerow(['Id', 'Category'])\n",
    "    # Записываем значения из словаря\n",
    "    for key, value in predicts.items():\n",
    "        writer.writerow([key, value])\n",
    "        #print([key, value])\n",
    "print(f\"CSV file {csv_filename} sucessfully created.\")"
   ]
  }
 ],
 "metadata": {
  "kaggle": {
   "accelerator": "nvidiaTeslaT4",
   "dataSources": [
    {
     "databundleVersionId": 7217201,
     "sourceId": 65536,
     "sourceType": "competition"
    },
    {
     "datasetId": 4219834,
     "sourceId": 7278255,
     "sourceType": "datasetVersion"
    }
   ],
   "dockerImageVersionId": 30627,
   "isGpuEnabled": true,
   "isInternetEnabled": true,
   "language": "python",
   "sourceType": "notebook"
  },
  "kernelspec": {
   "display_name": "Python 3 (ipykernel)",
   "language": "python",
   "name": "python3"
  },
  "language_info": {
   "codemirror_mode": {
    "name": "ipython",
    "version": 3
   },
   "file_extension": ".py",
   "mimetype": "text/x-python",
   "name": "python",
   "nbconvert_exporter": "python",
   "pygments_lexer": "ipython3",
   "version": "3.10.12"
  }
 },
 "nbformat": 4,
 "nbformat_minor": 4
}
